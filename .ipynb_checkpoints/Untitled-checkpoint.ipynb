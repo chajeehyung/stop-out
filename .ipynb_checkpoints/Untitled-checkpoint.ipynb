{
 "cells": [
  {
   "cell_type": "code",
   "execution_count": 7,
   "metadata": {},
   "outputs": [
    {
     "name": "stdout",
     "output_type": "stream",
     "text": [
      "민아\n",
      "혜리\n",
      "유라\n",
      "소진\n"
     ]
    }
   ],
   "source": [
    "#1\n",
    "girlsday_members = ['민아', '혜리', '유라', '소진']\n",
    "for row in range(0,4):\n",
    "    print(girlsday_members[row])"
   ]
  },
  {
   "cell_type": "code",
   "execution_count": 43,
   "metadata": {},
   "outputs": [
    {
     "name": "stdout",
     "output_type": "stream",
     "text": [
      "[0] RED : Apple\n",
      "[1] YELLOW : Banana\n",
      "[2] GREEN : Melon\n"
     ]
    }
   ],
   "source": [
    "#2\n",
    "num = 0\n",
    "for key in fruit_dict.keys():\n",
    "    print('['+str(num)+'] '+ key.upper() +' : '+ fruit_dict[key].capitalize())\n",
    "    num += 1"
   ]
  },
  {
   "cell_type": "code",
   "execution_count": 61,
   "metadata": {},
   "outputs": [],
   "source": [
    "#3\n",
    "#copy() 함수란?\n",
    "#python에서 list를 다른 변수에 할당하게 되면, 참조형태로 전달되기 때문에 실제로 같은 물리공간에 위치한 데이터를 가리키게 된다.\n",
    "#단순하게 a_list = b_list 하고 값을 복사했을경우 b_list의 값을 변경하면 a_list의 값도 변경된다. 이처럼 참조형태가 아닌 값을 복사한기 위한 함수로\n",
    "#copy()함수를 사용한다\n",
    "#예시\n",
    "a_list = [1,2,3]\n",
    "b_list =[]\n",
    "b_list = a_list\n",
    "b_list.append(4)\n",
    "# 이럴경우 a_list의값 값도 변경된다\n"
   ]
  },
  {
   "cell_type": "code",
   "execution_count": 86,
   "metadata": {},
   "outputs": [],
   "source": [
    "#4\n",
    "rane_list = [num for num in range(3,30,4)]"
   ]
  },
  {
   "cell_type": "code",
   "execution_count": 88,
   "metadata": {},
   "outputs": [],
   "source": [
    "#5\n",
    "#딕셔너리에 없는 키로 값을 가져오려고 할 경우 obj[key]는 key 오류를 발생시키고 obj.get(key)는 None을 리턴한다."
   ]
  },
  {
   "cell_type": "code",
   "execution_count": 98,
   "metadata": {},
   "outputs": [
    {
     "name": "stdout",
     "output_type": "stream",
     "text": [
      "('피카츄', '전기 타입')\n",
      "('파이리', '불 타입')\n",
      "('꼬부기', '물 타입')\n"
     ]
    }
   ],
   "source": [
    "#6\n",
    "# 듀플 언패팅이란 튜플의 요소를 변수 여러 개에 할당하는 것을 말한다.\n",
    "pokemon_info = [\n",
    "    ('피카츄', '전기 타입'),\n",
    "    ('파이리', '불 타입'),\n",
    "    ('꼬부기', '물 타입'),\n",
    "    ('이상해씨', '풀 타입'),\n",
    "]\n",
    "a = pokemon_info[0]\n",
    "b = pokemon_info[1]\n",
    "c = pokemon_info[2]\n",
    "print(a)\n",
    "print(b)\n",
    "print(c)"
   ]
  },
  {
   "cell_type": "code",
   "execution_count": 99,
   "metadata": {},
   "outputs": [],
   "source": [
    "#7\n",
    "#위치인자 : 함수에서 정의한 위치대로 대입하는 인자를 말한다\n",
    "#키워드인자 : 피라미터의 이름까지 명시적으로 지정해서 전달하기 위해 쓰이는 인자를 키워드인자라 한다."
   ]
  },
  {
   "cell_type": "code",
   "execution_count": 100,
   "metadata": {},
   "outputs": [],
   "source": [
    "#8\n",
    "# 클래스와 인스턴스의 차이점 : 클래스에 의해서 만들어진 객체를 인스턴스라고도 한다\n",
    "# 클래스의 생성자 함수 이름 : __init__()\n",
    "# 클래스의 생성자 함수가 호출되는 시점은? : 객체를 생성할때 최초로 호출된다.\n",
    "# 인스턴스 메서드의 `self`매개변수의 의미 : 생성된 객체의 필드를 가르키는 의미이다"
   ]
  },
  {
   "cell_type": "code",
   "execution_count": 101,
   "metadata": {},
   "outputs": [],
   "source": [
    "#9\n",
    "#파이썬에서는 지원하지 않지만, 어떤 언어들은 외부에서 접근할 수 없는 private객체 속성을 지원한다. \n",
    "#이 경우, 객체에서는 해당 속성을 읽고 쓰기 위해 getter, setter메서드를 사용해야 한다.\n",
    "#getter :  읽어드릴 변수의 명칭으로 어노테이션 @propertyf를 이용하여 함수를 정의하고 함수내에서 self 매개변수를 통해 읽어드릴 값을 할당한다.\n",
    "#setter : 셋팅할 값을 변수의 명칭으로 어노테이션 @name.setter를 이용하하여 함수를 정의하고 self 매개변수로 값을 받아 출력해주는 로직을 구현한다."
   ]
  },
  {
   "cell_type": "code",
   "execution_count": 123,
   "metadata": {},
   "outputs": [],
   "source": [
    "#10\n",
    "class User:\n",
    "    def __init__(self, name):\n",
    "        self.name = name\n",
    "\n",
    "    def __repr__(self):\n",
    "        return self.name\n",
    "    \n",
    "class Student(User):\n",
    "    def __init__(self,name,age):\n",
    "        super().__init__(name)\n",
    "        self.age = age\n",
    "    \n",
    "    def __repr__(self):\n",
    "        return super().name, self.age"
   ]
  },
  {
   "cell_type": "code",
   "execution_count": null,
   "metadata": {},
   "outputs": [],
   "source": [
    "#13\n",
    "localhost:8000 -> runserver -> urlresolver -> views의 함수와 맵핑한 후 요청을 처리한 결과를 리턴-> 리턴된 결과를 브라우저에 표시"
   ]
  }
 ],
 "metadata": {
  "kernelspec": {
   "display_name": "Python 3",
   "language": "python",
   "name": "python3"
  },
  "language_info": {
   "codemirror_mode": {
    "name": "ipython",
    "version": 3
   },
   "file_extension": ".py",
   "mimetype": "text/x-python",
   "name": "python",
   "nbconvert_exporter": "python",
   "pygments_lexer": "ipython3",
   "version": "3.6.6"
  }
 },
 "nbformat": 4,
 "nbformat_minor": 2
}
